{
 "cells": [
  {
   "cell_type": "code",
   "execution_count": null,
   "metadata": {},
   "outputs": [],
   "source": []
  },
  {
   "cell_type": "code",
   "execution_count": 30,
   "metadata": {},
   "outputs": [],
   "source": [
    "class Student:\n",
    "    \n",
    "    def __init__(self, name, dob, id, lib_id):\n",
    "        # print(name)\n",
    "        # print(dob)\n",
    "        # print(id)\n",
    "        # print(lib_id)\n",
    "        \n",
    "        \n",
    "        self.name=name \n",
    "        self.dob=int(dob)\n",
    "        # self.student_id=\n",
    "        # self.library_id=\n",
    "        \n",
    "    def change_name(self, new_name):\n",
    "        self.name = new_name\n",
    "        \n",
    "        \n"
   ]
  },
  {
   "cell_type": "code",
   "execution_count": 31,
   "metadata": {},
   "outputs": [
    {
     "name": "stdout",
     "output_type": "stream",
     "text": [
      "ray\n",
      "rosie\n"
     ]
    }
   ],
   "source": [
    "student_1 = Student(\"ray\", \"29071984\", \"01234\", \"12345\")\n",
    "student_2 = Student(\"rosie\", \"29071988\", \"0121134\", \"112122345\")\n",
    "\n",
    "print(student_1.name)\n",
    "print(student_2.name)\n"
   ]
  },
  {
   "cell_type": "code",
   "execution_count": 32,
   "metadata": {},
   "outputs": [
    {
     "name": "stdout",
     "output_type": "stream",
     "text": [
      "zelda\n"
     ]
    }
   ],
   "source": [
    "student_1.change_name(\"zelda\")\n",
    "print(student_1.name)"
   ]
  },
  {
   "cell_type": "code",
   "execution_count": 12,
   "metadata": {},
   "outputs": [
    {
     "name": "stdout",
     "output_type": "stream",
     "text": [
      "hello ray\n",
      "goodbye ray\n",
      "bye\n",
      "god\n",
      "beak\n"
     ]
    }
   ],
   "source": [
    "def some_function(a, b, c, d, banana):\n",
    "    \n",
    "    print(a)\n",
    "    print(b)\n",
    "    print(c)\n",
    "    print(d)\n",
    "    print(banana)\n",
    "\n",
    "\n",
    "\n",
    "some_function(\"hello ray\", \"goodbye ray\", \"bye\", \"god\", \"beak\")\n",
    "# some_function(\"hello bell\")\n",
    "# some_function(\"hello \")\n",
    "# some_function(\"hello ray\")"
   ]
  },
  {
   "cell_type": "code",
   "execution_count": null,
   "metadata": {},
   "outputs": [],
   "source": []
  }
 ],
 "metadata": {
  "kernelspec": {
   "display_name": "Python 3",
   "language": "python",
   "name": "python3"
  },
  "language_info": {
   "codemirror_mode": {
    "name": "ipython",
    "version": 3
   },
   "file_extension": ".py",
   "mimetype": "text/x-python",
   "name": "python",
   "nbconvert_exporter": "python",
   "pygments_lexer": "ipython3",
   "version": "3.12.6"
  }
 },
 "nbformat": 4,
 "nbformat_minor": 2
}
