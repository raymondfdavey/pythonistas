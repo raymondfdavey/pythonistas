{
 "cells": [
  {
   "cell_type": "code",
   "execution_count": null,
   "metadata": {},
   "outputs": [],
   "source": []
  },
  {
   "cell_type": "code",
   "execution_count": 8,
   "metadata": {},
   "outputs": [
    {
     "name": "stdout",
     "output_type": "stream",
     "text": [
      "1 2 3\n",
      "1 2 999 3\n",
      "1 2 999\n",
      "1 2 999 3\n"
     ]
    }
   ],
   "source": [
    "class Parent():\n",
    "    def __init__(self, v1, v2, v3=999):\n",
    "        self.v1 = v1\n",
    "        self.v2 = v2\n",
    "        self.v3 = v3\n",
    "    def show(self):\n",
    "        print(self.v1, self.v2, self.v3)\n",
    "\n",
    "class Child(Parent):\n",
    "    def __init__(self, v1, v2, v4):\n",
    "        super().__init__(v1, v2)\n",
    "        self.v4 = v4\n",
    "    \n",
    "    def show(self):\n",
    "        print(self.v1, self.v2, self.v3, self.v4)\n",
    "\n",
    "ex1 = Parent(1, 2, 3)\n",
    "ex1.show()\n",
    "\n",
    "ex2 = Child(1, 2, 3)\n",
    "ex2.show()\n",
    "\n",
    "ex1 = Parent(1, 2, )\n",
    "ex1.show()\n",
    "\n",
    "ex2 = Child(1, 2, 3)\n",
    "ex2.show()\n",
    "\n",
    "\n",
    "        \n",
    "        "
   ]
  },
  {
   "cell_type": "code",
   "execution_count": null,
   "metadata": {},
   "outputs": [],
   "source": []
  }
 ],
 "metadata": {
  "kernelspec": {
   "display_name": "Python 3",
   "language": "python",
   "name": "python3"
  },
  "language_info": {
   "codemirror_mode": {
    "name": "ipython",
    "version": 3
   },
   "file_extension": ".py",
   "mimetype": "text/x-python",
   "name": "python",
   "nbconvert_exporter": "python",
   "pygments_lexer": "ipython3",
   "version": "3.12.6"
  }
 },
 "nbformat": 4,
 "nbformat_minor": 2
}
