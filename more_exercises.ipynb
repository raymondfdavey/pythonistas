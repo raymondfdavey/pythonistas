{
  "nbformat": 4,
  "nbformat_minor": 0,
  "metadata": {
    "colab": {
      "provenance": []
    },
    "kernelspec": {
      "name": "python3",
      "display_name": "Python 3"
    },
    "language_info": {
      "name": "python"
    }
  },
  "cells": [
    {
      "cell_type": "markdown",
      "source": [
        "# Extension challenges for Lab 2"
      ],
      "metadata": {
        "id": "0w8SZp0E4mMR"
      }
    },
    {
      "cell_type": "markdown",
      "source": [
        "Nested Loops and List Operations – Matrix Transposition"
      ],
      "metadata": {
        "id": "of2vF8yN5bKS"
      }
    },
    {
      "cell_type": "markdown",
      "source": [
        "**Description**: Write a Python program that asks the user to input a matrix (as a list of lists) and then calculates the transposed version of the matrix using for loops, list operations, and list comprehension.\n",
        "\n",
        "**Instructions:**\n",
        "\n",
        "\n",
        "1.   **Input**: The program should prompt the user to enter the number of rows and columns of the matrix, followed by the elements of the matrix.\n",
        "2.   **Output**: Display the original matrix and the transposed matrix.\n",
        "\n",
        "\n",
        "\n",
        "\n",
        "\n",
        "\n",
        "\n",
        "\n"
      ],
      "metadata": {
        "id": "sYGZEayj53mX"
      }
    },
    {
      "cell_type": "markdown",
      "source": [
        "**Sample Output：**\n",
        "\n",
        "Enter the number of rows: 3\n",
        "\n",
        "Enter the number of columns: 4\n",
        "\n",
        "Please enter the matrix elements row by row (space-separated):\n",
        "\n",
        "Enter row 1: 1 2 3 4\n",
        "\n",
        "Enter row 2: 5 6 7 8\n",
        "\n",
        "Enter row 3: 9 10 11 12\n",
        "\n",
        "\n",
        "Original Matrix:\n",
        "\n",
        "1 2 3 4\n",
        "\n",
        "5 6 7 8\n",
        "\n",
        "9 10 11 12\n",
        "\n",
        "Transposed Matrix:\n",
        "\n",
        "1 5 9\n",
        "\n",
        "2 6 10\n",
        "\n",
        "3 7 11\n",
        "\n",
        "4 8 12\n",
        "\n"
      ],
      "metadata": {
        "id": "pVGGKXCP6eSX"
      }
    },
    {
      "cell_type": "markdown",
      "source": [
        "**Solution:**"
      ],
      "metadata": {
        "id": "ILubS9Ui7VVW"
      }
    },
    {
      "cell_type": "code",
      "source": [
        "# Input the number of rows and columns\n",
        "rows = int(input(\"Enter the number of rows: \"))\n",
        "cols = int(input(\"Enter the number of columns: \"))\n",
        "\n",
        "# Input the Matrix\n",
        "matrix = []\n",
        "print(\"Please enter the matrix elements row by row (space-separated):\")\n",
        "\n",
        "for i in range(rows):\n",
        "    while True:\n",
        "        row = list(map(int, input(f\"Enter row {i + 1}: \").split()))\n",
        "        if len(row) == cols:\n",
        "            break\n",
        "        else:\n",
        "            print(f\"Row {i + 1} must contain exactly {cols} elements. Please try again.\")\n",
        "    matrix.append(row)\n",
        "\n",
        "# Output the original matrix\n",
        "print(\"\\nOriginal Matrix:\")\n",
        "for row in matrix:\n",
        "    print(\" \".join(map(str, row)))\n",
        "\n",
        "# Transpose the Matrix\n",
        "transposed = [[matrix[j][i] for j in range(rows)] for i in range(cols)]\n",
        "\n",
        "# Output the transposed matrix\n",
        "print(\"\\nTransposed Matrix:\")\n",
        "for row in transposed:\n",
        "    print(\" \".join(map(str, row)))"
      ],
      "metadata": {
        "colab": {
          "base_uri": "https://localhost:8080/"
        },
        "id": "fT0URgMn53Dw",
        "outputId": "54832809-a9b0-420b-dd8b-d754dda500ae"
      },
      "execution_count": null,
      "outputs": [
        {
          "output_type": "stream",
          "name": "stdout",
          "text": [
            "Enter the number of rows: 3\n",
            "Enter the number of columns: 3\n",
            "Please enter the matrix elements row by row (space-separated):\n",
            "Enter row 1: 1 2 3\n",
            "Enter row 2: 4 5 6\n",
            "Enter row 3: 7 8 9\n",
            "\n",
            "Original Matrix:\n",
            "1 2 3\n",
            "4 5 6\n",
            "7 8 9\n",
            "\n",
            "Transposed Matrix:\n",
            "1 4 7\n",
            "2 5 8\n",
            "3 6 9\n"
          ]
        }
      ]
    },
    {
      "cell_type": "markdown",
      "source": [
        "Code that needs further completion："
      ],
      "metadata": {
        "id": "LzfUuvyK-uzq"
      }
    },
    {
      "cell_type": "code",
      "source": [
        "# Input the number of rows and columns\n",
        "rows = int(input(\"Enter the number of rows: \"))\n",
        "cols = int(input(\"Enter the number of columns: \"))\n",
        "\n",
        "# Input the Matrix\n",
        "matrix = []\n",
        "print(\"Please enter the matrix elements row by row (space-separated):\")\n",
        "\n",
        "for i in range(rows):\n",
        "    while True:\n",
        "        row = list(map(int, input(f\"Enter row {i + 1}: \").split()))\n",
        "        if len(row) == cols:\n",
        "            break\n",
        "        else:\n",
        "            print(f\"Row {i + 1} must contain exactly {cols} elements. Please try again.\")\n",
        "    matrix.append(row)\n",
        "\n",
        "### write code here ###\n",
        "\n",
        "# Output the original matrix\n",
        "print(\"\\nOriginal Matrix:\")\n",
        "\n",
        "\n",
        "# Transpose the Matrix\n",
        "\n",
        "\n",
        "# Output the transposed matrix\n",
        "print(\"\\nTransposed Matrix:\")\n",
        "\n",
        "\n"
      ],
      "metadata": {
        "id": "nNpnKKTY9hdI"
      },
      "execution_count": null,
      "outputs": []
    },
    {
      "cell_type": "code",
      "source": [],
      "metadata": {
        "id": "s9hcvNHb4mhp"
      },
      "execution_count": null,
      "outputs": []
    },
    {
      "cell_type": "code",
      "source": [],
      "metadata": {
        "id": "pyp_dXeS9ksW"
      },
      "execution_count": null,
      "outputs": []
    },
    {
      "cell_type": "markdown",
      "source": [
        "Knowledge Points:\n",
        "\n",
        "Use for loops to iterate through the matrix and build the transposed matrix.\n",
        "\n",
        "Use if statements to validate the user's input, ensuring that a valid matrix is provided.\n",
        "\n",
        "Use list comprehension to optimize the construction of the transposed matrix after the first step.\n",
        "\n",
        "Lists and list operations will be necessary to manipulate the matrix and its transposed form.\n"
      ],
      "metadata": {
        "id": "zgLbe66A9cOT"
      }
    }
  ]
}