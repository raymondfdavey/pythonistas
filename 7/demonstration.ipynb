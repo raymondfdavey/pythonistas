{
 "cells": [
  {
   "cell_type": "markdown",
   "metadata": {},
   "source": [
    "# Errors and Testing"
   ]
  },
  {
   "cell_type": "code",
   "execution_count": 41,
   "metadata": {},
   "outputs": [
    {
     "ename": "SyntaxError",
     "evalue": "unterminated string literal (detected at line 3) (529960371.py, line 3)",
     "output_type": "error",
     "traceback": [
      "\u001b[0;36m  Cell \u001b[0;32mIn[41], line 3\u001b[0;36m\u001b[0m\n\u001b[0;31m    print(\"this is definitely going to work)\u001b[0m\n\u001b[0m          ^\u001b[0m\n\u001b[0;31mSyntaxError\u001b[0m\u001b[0;31m:\u001b[0m unterminated string literal (detected at line 3)\n"
     ]
    }
   ],
   "source": [
    "# errors - mistakes in the actual code\n",
    "\n",
    "print(\"this is definitely going to work)\n"
   ]
  },
  {
   "cell_type": "code",
   "execution_count": 42,
   "metadata": {},
   "outputs": [
    {
     "name": "stdout",
     "output_type": "stream",
     "text": [
      "no\n",
      "problems\n",
      "here\n"
     ]
    },
    {
     "ename": "IndexError",
     "evalue": "list index out of range",
     "output_type": "error",
     "traceback": [
      "\u001b[0;31m---------------------------------------------------------------------------\u001b[0m",
      "\u001b[0;31mIndexError\u001b[0m                                Traceback (most recent call last)",
      "Cell \u001b[0;32mIn[42], line 4\u001b[0m\n\u001b[1;32m      1\u001b[0m some_list \u001b[38;5;241m=\u001b[39m [\u001b[38;5;124m\"\u001b[39m\u001b[38;5;124mno\u001b[39m\u001b[38;5;124m\"\u001b[39m, \u001b[38;5;124m\"\u001b[39m\u001b[38;5;124mproblems\u001b[39m\u001b[38;5;124m\"\u001b[39m, \u001b[38;5;124m\"\u001b[39m\u001b[38;5;124mhere\u001b[39m\u001b[38;5;124m\"\u001b[39m]\n\u001b[1;32m      3\u001b[0m \u001b[38;5;28;01mfor\u001b[39;00m i \u001b[38;5;129;01min\u001b[39;00m \u001b[38;5;28mrange\u001b[39m(\u001b[38;5;241m10\u001b[39m):\n\u001b[0;32m----> 4\u001b[0m     \u001b[38;5;28mprint\u001b[39m(\u001b[43msome_list\u001b[49m\u001b[43m[\u001b[49m\u001b[43mi\u001b[49m\u001b[43m]\u001b[49m)\n",
      "\u001b[0;31mIndexError\u001b[0m: list index out of range"
     ]
    }
   ],
   "source": [
    "some_list = [\"no\", \"problems\", \"here\"]\n",
    "\n",
    "for i in range(10):\n",
    "    print(some_list[i])"
   ]
  },
  {
   "cell_type": "code",
   "execution_count": 43,
   "metadata": {},
   "outputs": [],
   "source": [
    "# bugs - mistakes in the functioning of your code - it doesn't do what you want\n",
    "\n",
    "def isHigherThanFifty(x):\n",
    "    if x < 50:\n",
    "        return True\n",
    "    else:\n",
    "        return False\n",
    "\n",
    "# how to check this is doing what we want?\n"
   ]
  },
  {
   "cell_type": "markdown",
   "metadata": {},
   "source": [
    "# TESTING"
   ]
  },
  {
   "cell_type": "code",
   "execution_count": 44,
   "metadata": {},
   "outputs": [
    {
     "name": "stderr",
     "output_type": "stream",
     "text": [
      "test_something_1 (__main__.TestHigherThanFifty.test_something_1) ... FAIL\n",
      "test_something_2 (__main__.TestHigherThanFifty.test_something_2) ... FAIL\n",
      "test_something_3 (__main__.TestHigherThanFifty.test_something_3) ... FAIL\n",
      "test_something_4 (__main__.TestHigherThanFifty.test_something_4) ... ok\n",
      "test_something_5 (__main__.TestHigherThanFifty.test_something_5) ... FAIL\n",
      "test_something_6 (__main__.TestHigherThanFifty.test_something_6) ... FAIL\n",
      "test_something_7 (__main__.TestHigherThanFifty.test_something_7) ... ok\n",
      "\n",
      "======================================================================\n",
      "FAIL: test_something_1 (__main__.TestHigherThanFifty.test_something_1)\n",
      "----------------------------------------------------------------------\n",
      "Traceback (most recent call last):\n",
      "  File \"/var/folders/s9/6jqgtxwn66z2wpd4l47xrkqh0000gn/T/ipykernel_19252/1241865761.py\", line 7, in test_something_1\n",
      "    self.assertTrue(isHigherThanFifty(100))\n",
      "AssertionError: False is not true\n",
      "\n",
      "======================================================================\n",
      "FAIL: test_something_2 (__main__.TestHigherThanFifty.test_something_2)\n",
      "----------------------------------------------------------------------\n",
      "Traceback (most recent call last):\n",
      "  File \"/var/folders/s9/6jqgtxwn66z2wpd4l47xrkqh0000gn/T/ipykernel_19252/1241865761.py\", line 11, in test_something_2\n",
      "    self.assertFalse(isHigherThanFifty(10))\n",
      "AssertionError: True is not false\n",
      "\n",
      "======================================================================\n",
      "FAIL: test_something_3 (__main__.TestHigherThanFifty.test_something_3)\n",
      "----------------------------------------------------------------------\n",
      "Traceback (most recent call last):\n",
      "  File \"/var/folders/s9/6jqgtxwn66z2wpd4l47xrkqh0000gn/T/ipykernel_19252/1241865761.py\", line 15, in test_something_3\n",
      "    self.assertFalse(isHigherThanFifty(-100))\n",
      "AssertionError: True is not false\n",
      "\n",
      "======================================================================\n",
      "FAIL: test_something_5 (__main__.TestHigherThanFifty.test_something_5)\n",
      "----------------------------------------------------------------------\n",
      "Traceback (most recent call last):\n",
      "  File \"/var/folders/s9/6jqgtxwn66z2wpd4l47xrkqh0000gn/T/ipykernel_19252/1241865761.py\", line 23, in test_something_5\n",
      "    self.assertFalse(isHigherThanFifty(-10))\n",
      "AssertionError: True is not false\n",
      "\n",
      "======================================================================\n",
      "FAIL: test_something_6 (__main__.TestHigherThanFifty.test_something_6)\n",
      "----------------------------------------------------------------------\n",
      "Traceback (most recent call last):\n",
      "  File \"/var/folders/s9/6jqgtxwn66z2wpd4l47xrkqh0000gn/T/ipykernel_19252/1241865761.py\", line 27, in test_something_6\n",
      "    self.assertTrue(isHigherThanFifty(50.1))\n",
      "AssertionError: False is not true\n",
      "\n",
      "----------------------------------------------------------------------\n",
      "Ran 7 tests in 0.005s\n",
      "\n",
      "FAILED (failures=5)\n"
     ]
    },
    {
     "data": {
      "text/plain": [
       "<unittest.runner.TextTestResult run=7 errors=0 failures=5>"
      ]
     },
     "execution_count": 44,
     "metadata": {},
     "output_type": "execute_result"
    }
   ],
   "source": [
    "import unittest\n",
    "\n",
    "class TestHigherThanFifty(unittest.TestCase):\n",
    "    \n",
    "    def test_something_1(self):\n",
    "        # testing over 60 values\n",
    "        self.assertTrue(isHigherThanFifty(100))\n",
    "    \n",
    "    def test_something_2(self):\n",
    "        # testing under 60\n",
    "        self.assertFalse(isHigherThanFifty(10))\n",
    "    \n",
    "    def test_something_3(self):\n",
    "        # testing outliers\n",
    "        self.assertFalse(isHigherThanFifty(-100))\n",
    "\n",
    "    def test_something_4(self):\n",
    "        #test boundary value\n",
    "        self.assertFalse(isHigherThanFifty(50))\n",
    "    \n",
    "    def test_something_5(self):\n",
    "        # test negative numbers\n",
    "        self.assertFalse(isHigherThanFifty(-10))\n",
    "    \n",
    "    def test_something_6(self):\n",
    "        # test float\n",
    "        self.assertTrue(isHigherThanFifty(50.1))\n",
    "    \n",
    "    def test_something_7(self):\n",
    "        # test invalid inputs\n",
    "        with self.assertRaises(TypeError):\n",
    "            isHigherThanFifty(\"51\")\n",
    "        with self.assertRaises(TypeError):\n",
    "            isHigherThanFifty(None)\n",
    "\n",
    "suite = unittest.TestLoader().loadTestsFromTestCase(TestHigherThanFifty)\n",
    "runner = unittest.TextTestRunner(verbosity=2)\n",
    "runner.run(suite)"
   ]
  },
  {
   "cell_type": "code",
   "execution_count": 46,
   "metadata": {},
   "outputs": [
    {
     "name": "stderr",
     "output_type": "stream",
     "text": [
      "test_something_1 (__main__.TestHigherThanFifty.test_something_1) ... ok\n",
      "test_something_2 (__main__.TestHigherThanFifty.test_something_2) ... ok\n",
      "test_something_3 (__main__.TestHigherThanFifty.test_something_3) ... ok\n",
      "test_something_4 (__main__.TestHigherThanFifty.test_something_4) ... ok\n",
      "test_something_5 (__main__.TestHigherThanFifty.test_something_5) ... ok\n",
      "test_something_6 (__main__.TestHigherThanFifty.test_something_6) ... ok\n",
      "test_something_7 (__main__.TestHigherThanFifty.test_something_7) ... ok\n",
      "\n",
      "----------------------------------------------------------------------\n",
      "Ran 7 tests in 0.007s\n",
      "\n",
      "OK\n"
     ]
    },
    {
     "data": {
      "text/plain": [
       "<unittest.runner.TextTestResult run=7 errors=0 failures=0>"
      ]
     },
     "execution_count": 46,
     "metadata": {},
     "output_type": "execute_result"
    }
   ],
   "source": [
    "# FIXED\n",
    "\n",
    "def isHigherThanFifty(x):\n",
    "    if not isinstance(x, (int, float)):\n",
    "        raise TypeError(\"Input must be a number\")\n",
    "    \n",
    "    if x > 50:\n",
    "        return True\n",
    "    else:\n",
    "        return False\n",
    "    \n",
    "suite = unittest.TestLoader().loadTestsFromTestCase(TestHigherThanFifty)\n",
    "runner = unittest.TextTestRunner(verbosity=2)\n",
    "runner.run(suite)"
   ]
  },
  {
   "cell_type": "code",
   "execution_count": null,
   "metadata": {},
   "outputs": [],
   "source": [
    "# 1. EXAMPLE TEST CLASS STRUCTURE\n",
    "class TestMyStuff(unittest.TestCase):  # Always inherit from TestCase\n",
    "    \n",
    "    # Optional: Runs before EACH test\n",
    "    def setUp(self):\n",
    "        self.my_list = [1, 2, 3]\n",
    "    \n",
    "    # Optional: Runs after EACH test\n",
    "    def tearDown(self):\n",
    "        self.my_list = []\n",
    "    \n",
    "    # Test methods MUST start with \"test_\"\n",
    "    def test_something(self):\n",
    "        self.assertEqual(1 + 1, 2)\n",
    "    \n",
    "    def test_another_thing(self):\n",
    "        self.assertTrue(isinstance(self.my_list, list))\n",
    "\n",
    "# 2. MAIN ASSERTION METHODS - docs/cheat sheets\n",
    "\n",
    "  "
   ]
  },
  {
   "cell_type": "markdown",
   "metadata": {},
   "source": [
    "cheat sheet: https://kapeli.com/cheat_sheets/Python_unittest_Assertions.docset/Contents/Resources/Documents/index\n",
    "\n",
    "docs: https://docs.python.org/3/library/unittest.html\n",
    "\n",
    "google: https://www.dataquest.io/blog/unit-tests-python/"
   ]
  },
  {
   "cell_type": "code",
   "execution_count": null,
   "metadata": {},
   "outputs": [],
   "source": [
    "# unit testing classes"
   ]
  },
  {
   "cell_type": "code",
   "execution_count": 24,
   "metadata": {},
   "outputs": [],
   "source": [
    "import unittest\n",
    "\n",
    "class Calculator:\n",
    "    \n",
    "    def init(self):\n",
    "        pass\n",
    "\n",
    "    def add(self, x, y):\n",
    "        return x + y\n",
    "\n",
    "    def multiply(self, x, y):\n",
    "        return x * y\n",
    "\n",
    "    def subtract(self, x, y):\n",
    "        return x - y\n",
    "\n",
    "    def divide(self, x, y):\n",
    "        if y == 0:\n",
    "            raise ZeroDivisionError(\"Cannot divide by zero\")\n",
    "        return x / y"
   ]
  },
  {
   "cell_type": "code",
   "execution_count": 25,
   "metadata": {},
   "outputs": [
    {
     "name": "stderr",
     "output_type": "stream",
     "text": [
      "test_addition (__main__.TestCalculator.test_addition) ... ok\n",
      "test_division (__main__.TestCalculator.test_division) ... ok\n",
      "test_division_by_zero (__main__.TestCalculator.test_division_by_zero) ... ok\n",
      "test_multiplication (__main__.TestCalculator.test_multiplication) ... ok\n",
      "test_subtraction (__main__.TestCalculator.test_subtraction) ... ok\n",
      "\n",
      "----------------------------------------------------------------------\n",
      "Ran 5 tests in 0.003s\n",
      "\n",
      "OK\n"
     ]
    },
    {
     "data": {
      "text/plain": [
       "<unittest.runner.TextTestResult run=5 errors=0 failures=0>"
      ]
     },
     "execution_count": 25,
     "metadata": {},
     "output_type": "execute_result"
    }
   ],
   "source": [
    "class TestCalculator(unittest.TestCase):\n",
    "    \n",
    "    def setUp(self):\n",
    "        self.calc = Calculator()\n",
    "    \n",
    "    def test_addition(self):\n",
    "        self.assertEqual(self.calc.add(3, 5), 8)\n",
    "        self.assertEqual(self.calc.add(-1, 1), 0)\n",
    "        \n",
    "    def test_subtraction(self):\n",
    "        self.assertEqual(self.calc.subtract(5, 3), 2)\n",
    "        self.assertEqual(self.calc.subtract(1, 1), 0)\n",
    "        \n",
    "    def test_multiplication(self):\n",
    "        self.assertEqual(self.calc.multiply(4, 2), 8)\n",
    "        self.assertEqual(self.calc.multiply(5, 0), 0)\n",
    "        \n",
    "    def test_division(self):\n",
    "        self.assertEqual(self.calc.divide(6, 2), 3)\n",
    "        self.assertEqual(self.calc.divide(5, 2), 2.5)\n",
    "        \n",
    "    def test_division_by_zero(self):\n",
    "        with self.assertRaises(ZeroDivisionError):\n",
    "            self.calc.divide(5, 0)\n",
    "            \n",
    "suite = unittest.TestLoader().loadTestsFromTestCase(TestCalculator)\n",
    "runner = unittest.TextTestRunner(verbosity=2)\n",
    "runner.run(suite)"
   ]
  },
  {
   "cell_type": "markdown",
   "metadata": {},
   "source": [
    "# Exceptions"
   ]
  },
  {
   "cell_type": "code",
   "execution_count": 38,
   "metadata": {},
   "outputs": [
    {
     "name": "stdout",
     "output_type": "stream",
     "text": [
      "code before\n"
     ]
    },
    {
     "ename": "ZeroDivisionError",
     "evalue": "division by zero",
     "output_type": "error",
     "traceback": [
      "\u001b[0;31m---------------------------------------------------------------------------\u001b[0m",
      "\u001b[0;31mZeroDivisionError\u001b[0m                         Traceback (most recent call last)",
      "Cell \u001b[0;32mIn[38], line 3\u001b[0m\n\u001b[1;32m      1\u001b[0m \u001b[38;5;28mprint\u001b[39m(\u001b[38;5;124m\"\u001b[39m\u001b[38;5;124mcode before\u001b[39m\u001b[38;5;124m\"\u001b[39m)\n\u001b[0;32m----> 3\u001b[0m code_that_will_cause_error \u001b[38;5;241m=\u001b[39m \u001b[38;5;241;43m10\u001b[39;49m\u001b[38;5;241;43m/\u001b[39;49m\u001b[38;5;241;43m0\u001b[39;49m\n\u001b[1;32m      5\u001b[0m \u001b[38;5;28mprint\u001b[39m(\u001b[38;5;124m\"\u001b[39m\u001b[38;5;124mcode after\u001b[39m\u001b[38;5;124m\"\u001b[39m)\n",
      "\u001b[0;31mZeroDivisionError\u001b[0m: division by zero"
     ]
    }
   ],
   "source": [
    "print(\"code before\")\n",
    "\n",
    "code_that_will_cause_error = 10/0\n",
    "\n",
    "print(\"code after\")"
   ]
  },
  {
   "cell_type": "code",
   "execution_count": null,
   "metadata": {},
   "outputs": [],
   "source": [
    "print(\" code before\")\n",
    "\n",
    "try:\n",
    "    code_that_will_cause_error = 0/0\n",
    "except:\n",
    "    print(\"SOME ERROR HAS HAPPENED\")\n",
    "    \n",
    "print(\"code after \")"
   ]
  },
  {
   "cell_type": "code",
   "execution_count": null,
   "metadata": {},
   "outputs": [
    {
     "ename": "TypeError",
     "evalue": "can't multiply sequence by non-int of type 'float'",
     "output_type": "error",
     "traceback": [
      "\u001b[0;31m---------------------------------------------------------------------------\u001b[0m",
      "\u001b[0;31mTypeError\u001b[0m                                 Traceback (most recent call last)",
      "Cell \u001b[0;32mIn[34], line 2\u001b[0m\n\u001b[1;32m      1\u001b[0m \u001b[38;5;66;03m# code_that_will_cause_error = 10/0\u001b[39;00m\n\u001b[0;32m----> 2\u001b[0m code_that_will_cause_error \u001b[38;5;241m=\u001b[39m \u001b[38;5;124;43m\"\u001b[39;49m\u001b[38;5;124;43mdog\u001b[39;49m\u001b[38;5;124;43m\"\u001b[39;49m\u001b[43m \u001b[49m\u001b[38;5;241;43m*\u001b[39;49m\u001b[43m \u001b[49m\u001b[38;5;241;43m3.1\u001b[39;49m\n",
      "\u001b[0;31mTypeError\u001b[0m: can't multiply sequence by non-int of type 'float'"
     ]
    }
   ],
   "source": []
  },
  {
   "cell_type": "code",
   "execution_count": null,
   "metadata": {},
   "outputs": [],
   "source": [
    "try:\n",
    "    # do something that might fail\n",
    "except:\n",
    "    # do this if it does fail\n",
    "finally:\n",
    "    # do this at the end regardless"
   ]
  },
  {
   "cell_type": "code",
   "execution_count": null,
   "metadata": {},
   "outputs": [],
   "source": [
    "code_that_will_cause_error = 10/0\n",
    "code_that_will_cause_error = \"dog\" * 3.1"
   ]
  },
  {
   "cell_type": "code",
   "execution_count": null,
   "metadata": {},
   "outputs": [],
   "source": [
    "print(\"before code\")\n",
    "\n",
    "try:\n",
    "    code_that_will_cause_error = 10 / 0\n",
    "except ZeroDivisionError:\n",
    "    print(\"Error: Cannot divide by zero!\")\n",
    "except TypeError:\n",
    "    print(\"Error: Please provide numbers only!\")\n",
    "\n",
    "\n",
    "print(\"after code\")"
   ]
  },
  {
   "cell_type": "code",
   "execution_count": null,
   "metadata": {},
   "outputs": [
    {
     "name": "stdout",
     "output_type": "stream",
     "text": [
      "before code\n",
      "Error: Please provide numbers only!\n",
      "after code\n"
     ]
    }
   ],
   "source": [
    "print(\"before code\")\n",
    "\n",
    "try:\n",
    "    code_that_will_cause_error = \"dog\" * 3.1\n",
    "except ZeroDivisionError:\n",
    "    print(\"Error: Cannot divide by zero!\")\n",
    "except TypeError:\n",
    "    print(\"Error: Please provide numbers only!\")\n",
    "\n",
    "\n",
    "print(\"after code\")"
   ]
  },
  {
   "cell_type": "code",
   "execution_count": null,
   "metadata": {},
   "outputs": [
    {
     "name": "stdout",
     "output_type": "stream",
     "text": [
      "Error: Please provide numbers only!\n"
     ]
    }
   ],
   "source": [
    "def simple_division(a, b):\n",
    "    return a/b\n",
    "\n",
    "try:\n",
    "    code_that_will_cause_error = simple_division(\"dog\", \"bicuit\")\n",
    "except ZeroDivisionError:\n",
    "    print(\"Error: Cannot divide by zero!\")\n",
    "except TypeError:\n",
    "    print(\"Error: Please provide numbers only!\")\n",
    "finally:\n",
    "    print(\"other code\")"
   ]
  },
  {
   "cell_type": "code",
   "execution_count": null,
   "metadata": {},
   "outputs": [
    {
     "name": "stdout",
     "output_type": "stream",
     "text": [
      "No self division please\n",
      "phew, made it through\n"
     ]
    }
   ],
   "source": [
    "class UglySelfDivisionError(Exception):\n",
    "    def __init__(self):\n",
    "        pass    \n",
    "\n",
    "def divide_numbers_simple(a, b):\n",
    "    if a == b:\n",
    "        raise UglySelfDivisionError()\n",
    "    return a / b\n",
    "\n",
    "try:\n",
    "    code_that_might_cause_error = divide_numbers_simple(5, 5)\n",
    "except ZeroDivisionError:\n",
    "    print(\"Error: Cannot divide by zero!\")\n",
    "except TypeError:\n",
    "    print(\"Error: Please provide numbers only!\")\n",
    "except UglySelfDivisionError:\n",
    "    print(\"No self division please\")\n",
    "finally:\n",
    "    print(\"phew, made it through\")\n"
   ]
  },
  {
   "cell_type": "code",
   "execution_count": null,
   "metadata": {},
   "outputs": [],
   "source": [
    "# Debugger"
   ]
  },
  {
   "cell_type": "code",
   "execution_count": null,
   "metadata": {},
   "outputs": [],
   "source": [
    "\n",
    "\n",
    "class Library:\n",
    "    \"\"\"A simple library that can hold books.\"\"\"\n",
    "    \n",
    "    def __init__(self):\n",
    "        self.books = []\n",
    "        self.max_books = 3\n",
    "    \n",
    "    def add_book(self, book):\n",
    "        \"\"\"Adds a book to the library.\n",
    "           Raises MaxBooksError if library is full.\"\"\"\n",
    "        try:\n",
    "            if len(self.books) >= self.max_books:\n",
    "                raise MaxBooksError('Library is full - maximum 3 books.')\n",
    "            else:\n",
    "                self.books.append(book)\n",
    "                print(f'Added \"{book}\" to library.')\n",
    "        except MaxBooksError:\n",
    "            pass\n",
    "    \n",
    "    def remove_book(self, book):\n",
    "        \"\"\"Removes a book from the library.\n",
    "           Raises BookNotFoundError if book not present.\"\"\"\n",
    "        try:\n",
    "            if book not in self.books:\n",
    "                raise BookNotFoundError('Book not in library.')\n",
    "            else:\n",
    "                self.books.remove(book)\n",
    "                print(f'Removed \"{book}\" from library.')\n",
    "        except BookNotFoundError:\n",
    "            pass\n",
    "\n",
    "\n",
    "# Custom exceptions\n",
    "class BookNotFoundError(Exception):\n",
    "    def __init__(self, message):\n",
    "        print(message)\n",
    "\n",
    "class MaxBooksError(Exception):\n",
    "    def __init__(self, message):\n",
    "        print(message)\n",
    "        \n",
    "        \n",
    "\n",
    "library = Library()\n",
    "\n",
    "# Test adding books\n",
    "library.add_book(\"The Hobbit\")\n",
    "library.add_book(\"1984\")\n",
    "library.add_book(\"Dune\")\n",
    "library.add_book(\"The Catcher in the Rye\")  # Should raise MaxBooksError\n",
    "\n",
    "# Test removing books\n",
    "library.remove_book(\"1984\")  # Should work\n",
    "library.remove_book(\"Harry Potter\")  # Should raise BookNotFoundError"
   ]
  },
  {
   "cell_type": "code",
   "execution_count": null,
   "metadata": {},
   "outputs": [],
   "source": [
    "# Basic example of a try/except when loading data\n",
    "try:\n",
    "    with open('nonexistent.txt', 'r') as file:\n",
    "        data = file.read()\n",
    "        print('File loaded successfully')\n",
    "except FileNotFoundError:\n",
    "    print('Could not load file')"
   ]
  },
  {
   "cell_type": "code",
   "execution_count": null,
   "metadata": {},
   "outputs": [],
   "source": [
    "# meaningful error handling\n",
    "try:\n",
    "    with open('nonexistent.txt', 'r') as file:\n",
    "        data = file.read()\n",
    "except FileNotFoundError:\n",
    "    print(\"Couldn't find file - creating empty data instead\")\n",
    "    data = []    # Actually doing something to handle the error\n",
    "finally:\n",
    "    # create_data_object = SomeClass"
   ]
  }
 ],
 "metadata": {
  "kernelspec": {
   "display_name": "Python 3",
   "language": "python",
   "name": "python3"
  },
  "language_info": {
   "codemirror_mode": {
    "name": "ipython",
    "version": 3
   },
   "file_extension": ".py",
   "mimetype": "text/x-python",
   "name": "python",
   "nbconvert_exporter": "python",
   "pygments_lexer": "ipython3",
   "version": "3.12.6"
  }
 },
 "nbformat": 4,
 "nbformat_minor": 2
}
