{
 "cells": [
  {
   "cell_type": "markdown",
   "metadata": {},
   "source": [
    "# Understanding defaultdict in Python: An Interactive Guide\n",
    "\n",
    "## Introduction\n",
    "The `defaultdict` is a subclass of Python's built-in `dict` class that provides a special feature: if you try to access or modify a key that doesn't exist, it automatically creates the key with a default value. This makes it extremely useful for certain programming patterns.\n",
    "\n",
    "First, let's import defaultdict:\n",
    "```python\n",
    "from collections import defaultdict\n",
    "```\n",
    "\n",
    "## 1. Basic Usage and Comparison with Regular Dict\n",
    "\n",
    "### Regular dict behavior:\n",
    "```python\n",
    "# Regular dict\n",
    "regular_dict = {}\n",
    "try:\n",
    "    regular_dict['missing_key'] += 1\n",
    "except KeyError:\n",
    "    print(\"KeyError: key doesn't exist!\")\n",
    "```\n",
    "Output: `KeyError: key doesn't exist!`\n",
    "\n",
    "### defaultdict behavior:\n",
    "```python\n",
    "# defaultdict with int as default_factory\n",
    "d = defaultdict(int)\n",
    "d['missing_key'] += 1\n",
    "print(d['missing_key'])  # Output: 1\n",
    "```\n",
    "\n",
    "🤔 **Why does this work?**\n",
    "When you access a non-existent key in a defaultdict, it:\n",
    "1. Calls the default_factory function (int() in this case)\n",
    "2. Uses that value (0 for int()) as the default\n",
    "3. Inserts it into the dictionary\n",
    "4. Returns the default value\n",
    "\n",
    "## 2. Common Use Cases\n",
    "\n",
    "### 2.1 Counting Elements\n",
    "```python\n",
    "# Count occurrences of words in a text\n",
    "text = \"the quick brown fox jumps over the lazy dog\"\n",
    "word_count = defaultdict(int)\n",
    "\n",
    "for word in text.split():\n",
    "    word_count[word] += 1\n",
    "\n",
    "print(dict(word_count))\n",
    "```\n",
    "Output: `{'the': 2, 'quick': 1, 'brown': 1, 'fox': 1, 'jumps': 1, 'over': 1, 'lazy': 1, 'dog': 1}`\n",
    "\n",
    "### 2.2 Grouping Items\n",
    "```python\n",
    "# Group animals by their first letter\n",
    "animals = ['cat', 'dog', 'crow', 'deer', 'bear']\n",
    "animals_by_letter = defaultdict(list)\n",
    "\n",
    "for animal in animals:\n",
    "    animals_by_letter[animal[0]].append(animal)\n",
    "\n",
    "print(dict(animals_by_letter))\n",
    "```\n",
    "Output: `{'c': ['cat', 'crow'], 'd': ['dog', 'deer'], 'b': ['bear']}`\n",
    "\n",
    "### 2.3 Nested defaultdicts\n",
    "```python\n",
    "# Create a nested structure for storing city populations by country and state\n",
    "locations = defaultdict(lambda: defaultdict(list))\n",
    "locations['USA']['California'].append('Los Angeles')\n",
    "locations['USA']['California'].append('San Francisco')\n",
    "locations['Canada']['Ontario'].append('Toronto')\n",
    "\n",
    "# The raw output shows the defaultdict structure:\n",
    "print(dict(locations))\n",
    "# Output: {'USA': defaultdict(<class 'list'>, {'California': ['Los Angeles', 'San Francisco']}), \n",
    "#          'Canada': defaultdict(<class 'list'>, {'Ontario': ['Toronto']})}\n",
    "\n",
    "# To get a pure nested dictionary, you need to convert each level:\n",
    "pure_dict = {\n",
    "    country: dict(states)\n",
    "    for country, states in locations.items()\n",
    "}\n",
    "print(pure_dict)\n",
    "# Output: {'USA': {'California': ['Los Angeles', 'San Francisco']}, \n",
    "#          'Canada': {'Ontario': ['Toronto']}}\n",
    "```\n",
    "\n",
    "## Best Practices and Tips\n",
    "\n",
    "1. **Choose the Right Default Factory**:\n",
    "   - `int`: for counting\n",
    "   - `list`: for grouping items\n",
    "   - `set`: for unique collections\n",
    "   - `lambda`: for custom defaults or nested structures\n",
    "\n",
    "2. **Converting to Regular Dict**:\n",
    "   - Use `dict(defaultdict_obj)` when you need to serialize or print\n",
    "   - Useful when the default values are no longer needed\n",
    "\n",
    "3. **Memory Considerations**:\n",
    "   - defaultdict keeps all created keys in memory\n",
    "   - Consider using regular dict if you need to check for key existence\n",
    "\n",
    "4. **Type Hints**:\n",
    "```python\n",
    "from typing import DefaultDict\n",
    "counts: DefaultDict[str, int] = defaultdict(int)\n",
    "```\n"
   ]
  },
  {
   "cell_type": "markdown",
   "metadata": {},
   "source": [
    "\n",
    "## 3. Practice Problems\n",
    "\n",
    "### Problem 1: Character Counter\n",
    "Write a function that counts the occurrence of each character in a string using defaultdict.\n",
    "\n"
   ]
  },
  {
   "cell_type": "code",
   "execution_count": null,
   "metadata": {},
   "outputs": [],
   "source": [
    "from collections import defaultdict\n"
   ]
  },
  {
   "cell_type": "code",
   "execution_count": 4,
   "metadata": {},
   "outputs": [
    {
     "name": "stdout",
     "output_type": "stream",
     "text": [
      "defaultdict(<class 'int'>, {'h': 1, 'e': 1, 'l': 3, 'o': 2, ' ': 1, 'w': 1, 'r': 1, 'd': 1})\n"
     ]
    }
   ],
   "source": [
    "def count_characters(s):\n",
    "    counting_dict = defaultdict(int)\n",
    "    for letter in s:\n",
    "        counting_dict[letter] +=1\n",
    "    return counting_dict        \n",
    "\n",
    "\n",
    "# Test your function\n",
    "print(count_characters(\"hello world\"))\n",
    "# Expected output: {'h': 1, 'e': 1, 'l': 3, 'o': 2, ' ': 1, 'w': 1, 'r': 1, 'd': 1}"
   ]
  },
  {
   "cell_type": "markdown",
   "metadata": {},
   "source": [
    "\n",
    "### Problem 2: Group by Length\n",
    "Write a function that groups words by their length using defaultdict."
   ]
  },
  {
   "cell_type": "code",
   "execution_count": 6,
   "metadata": {},
   "outputs": [
    {
     "name": "stdout",
     "output_type": "stream",
     "text": [
      "defaultdict(<class 'list'>, {3: ['cat', 'dog', 'rat', 'pig'], 8: ['elephant'], 7: ['giraffe']})\n"
     ]
    }
   ],
   "source": [
    "def group_by_length(words):\n",
    "    grouping_dict = defaultdict(list)\n",
    "    for word in words:\n",
    "        grouping_dict[len(word)].append(word)\n",
    "    return grouping_dict\n",
    "\n",
    "# Test your function\n",
    "words = ['cat', 'dog', 'elephant', 'rat', 'giraffe', 'pig']\n",
    "print(group_by_length(words))\n",
    "# Expected output: {3: ['cat', 'dog', 'rat', 'pig'], 7: ['giraffe'], 8: ['elephant']}"
   ]
  },
  {
   "cell_type": "markdown",
   "metadata": {},
   "source": [
    "\n",
    "### Problem 3: Building a Simple Graph\n",
    "Create a function that builds an adjacency list representation of a graph using defaultdict.\n"
   ]
  },
  {
   "cell_type": "code",
   "execution_count": 8,
   "metadata": {},
   "outputs": [
    {
     "name": "stdout",
     "output_type": "stream",
     "text": [
      "defaultdict(<class 'set'>, {1: {2, 3}, 2: {1, 4}, 3: {1, 4}, 4: {2, 3}})\n"
     ]
    }
   ],
   "source": [
    "def build_graph(edges):\n",
    "    graph = defaultdict(set)\n",
    "    for node, edge in edges:\n",
    "        graph[node].add(edge)\n",
    "        graph[edge].add(node)\n",
    "    return graph\n",
    "\n",
    "# Test your function\n",
    "edges = [(1, 2), (1, 3), (2, 4), (3, 4)]\n",
    "print(build_graph(edges))\n",
    "# Expected output: {1: [2, 3], 2: [4], 3: [4], 4: []}"
   ]
  },
  {
   "cell_type": "markdown",
   "metadata": {},
   "source": [
    "\n",
    "## 5. Advanced Challenge\n",
    "\n",
    "Create a function that processes a list of transactions and returns a nested defaultdict structure showing:\n",
    "- Total amount spent per customer\n",
    "- List of items bought per customer\n",
    "- Average transaction value per customer\n",
    "\n",
    "Sample data:\n",
    "\n",
    "Try to solve this yourself before looking at the solution!\n",
    "\n"
   ]
  },
  {
   "cell_type": "code",
   "execution_count": 19,
   "metadata": {},
   "outputs": [
    {
     "name": "stdout",
     "output_type": "stream",
     "text": [
      "defaultdict(<function <lambda> at 0x106a86c00>, {'customer1': {'items': ['apple', 'banana', 'orange'], 'transaction_value': [0.5, 0.3, 0.6], 'average_transaction_value': 0.4666666666666666, 'total_spend': 1.4}, 'customer2': {'items': ['apple'], 'transaction_value': [0.5], 'average_transaction_value': 0.5, 'total_spend': 0.5}})\n"
     ]
    }
   ],
   "source": [
    "transactions = [\n",
    "    ('customer1', 'apple', 0.5),\n",
    "    ('customer1', 'banana', 0.3),\n",
    "    ('customer2', 'apple', 0.5),\n",
    "    ('customer1', 'orange', 0.6)\n",
    "]\n",
    "\n",
    "transaction_dict = defaultdict(lambda: {\"items\": [],\"transaction_value\": [],\"average_transaction_value\": 0,\"total_spend\": 0} )\n",
    "\n",
    "for customer, item, cost in transactions:\n",
    "    transaction_dict[customer][\"items\"].append(item)\n",
    "    transaction_dict[customer][\"transaction_value\"].append(cost)\n",
    "\n",
    "\n",
    "for customer, details in transaction_dict.items():\n",
    "    transaction_dict[customer][\"total_spend\"] = sum(details[\"transaction_value\"])\n",
    "    transaction_dict[customer][\"average_transaction_value\"] = sum(details[\"transaction_value\"])/len(details[\"transaction_value\"])\n",
    "\n",
    "    \n",
    "\n",
    "print(transaction_dict)"
   ]
  },
  {
   "cell_type": "code",
   "execution_count": null,
   "metadata": {},
   "outputs": [],
   "source": []
  },
  {
   "cell_type": "code",
   "execution_count": null,
   "metadata": {},
   "outputs": [],
   "source": []
  },
  {
   "cell_type": "code",
   "execution_count": null,
   "metadata": {},
   "outputs": [],
   "source": []
  },
  {
   "cell_type": "code",
   "execution_count": null,
   "metadata": {},
   "outputs": [],
   "source": []
  },
  {
   "cell_type": "markdown",
   "metadata": {},
   "source": [
    "## 4. Solutions\n",
    "\n",
    "<details>\n",
    "<summary>Click to see solutions</summary>\n",
    "\n",
    "### Solution 1: Character Counter\n",
    "```python\n",
    "def count_characters(s):\n",
    "    char_count = defaultdict(int)\n",
    "    for char in s:\n",
    "        char_count[char] += 1\n",
    "    return dict(char_count)\n",
    "```\n",
    "\n",
    "### Solution 2: Group by Length\n",
    "```python\n",
    "def group_by_length(words):\n",
    "    groups = defaultdict(list)\n",
    "    for word in words:\n",
    "        groups[len(word)].append(word)\n",
    "    return dict(groups)\n",
    "```\n",
    "\n",
    "### Solution 3: Building a Simple Graph\n",
    "```python\n",
    "def build_graph(edges):\n",
    "    graph = defaultdict(list)\n",
    "    for src, dest in edges:\n",
    "        graph[src].append(dest)\n",
    "    return dict(graph)\n",
    "```\n",
    "\n",
    "```python\n",
    "def analyze_transactions(transactions):\n",
    "    # Create nested defaultdict structure\n",
    "    customer_data = defaultdict(lambda: {\n",
    "        'total_spent': 0,\n",
    "        'items': defaultdict(int),\n",
    "        'transaction_count': 0\n",
    "    })\n",
    "    \n",
    "    # Process transactions\n",
    "    for customer, item, amount in transactions:\n",
    "        customer_data[customer]['total_spent'] += amount\n",
    "        customer_data[customer]['items'][item] += 1\n",
    "        customer_data[customer]['transaction_count'] += 1\n",
    "    \n",
    "    # Calculate averages and convert to regular dict\n",
    "    result = {}\n",
    "    for customer, data in customer_data.items():\n",
    "        result[customer] = {\n",
    "            'total_spent': data['total_spent'],\n",
    "            'items': dict(data['items']),\n",
    "            'average_transaction': data['total_spent'] / data['transaction_count']\n",
    "        }\n",
    "    \n",
    "    return result\n",
    "```\n",
    "\n",
    "</details>\n"
   ]
  },
  {
   "cell_type": "code",
   "execution_count": null,
   "metadata": {},
   "outputs": [],
   "source": []
  },
  {
   "cell_type": "code",
   "execution_count": 3,
   "metadata": {},
   "outputs": [
    {
     "name": "stdout",
     "output_type": "stream",
     "text": [
      "{'USA': defaultdict(<class 'list'>, {'California': ['Los Angeles', 'San Francisco']}), 'Canada': defaultdict(<class 'list'>, {'Ontario': ['Toronto']})}\n"
     ]
    }
   ],
   "source": [
    "from collections import defaultdict\n",
    "\n",
    "\n",
    "# Create a nested structure for storing city populations by country and state\n",
    "locations = defaultdict(lambda: defaultdict(list))\n",
    "locations['USA']['California'].append('Los Angeles')\n",
    "locations['USA']['California'].append('San Francisco')\n",
    "locations['Canada']['Ontario'].append('Toronto')\n",
    "\n",
    "print(dict(locations))\n"
   ]
  },
  {
   "cell_type": "markdown",
   "metadata": {},
   "source": []
  },
  {
   "cell_type": "markdown",
   "metadata": {},
   "source": []
  },
  {
   "cell_type": "markdown",
   "metadata": {},
   "source": []
  }
 ],
 "metadata": {
  "kernelspec": {
   "display_name": "Python 3",
   "language": "python",
   "name": "python3"
  },
  "language_info": {
   "codemirror_mode": {
    "name": "ipython",
    "version": 3
   },
   "file_extension": ".py",
   "mimetype": "text/x-python",
   "name": "python",
   "nbconvert_exporter": "python",
   "pygments_lexer": "ipython3",
   "version": "3.12.6"
  }
 },
 "nbformat": 4,
 "nbformat_minor": 2
}
