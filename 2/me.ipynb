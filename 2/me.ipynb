{
 "cells": [
  {
   "cell_type": "markdown",
   "metadata": {},
   "source": [
    "Coding challenges 1 \n",
    " \n",
    "1)  Allow the user to enter a number. Use an if statement to display whether \n",
    "the number is negative, equal to zero or positive. \n"
   ]
  },
  {
   "cell_type": "code",
   "execution_count": 5,
   "metadata": {},
   "outputs": [
    {
     "name": "stdout",
     "output_type": "stream",
     "text": [
      "zero\n"
     ]
    }
   ],
   "source": [
    "x = int(input('number'))\n",
    "\n",
    "print(\"less than zero\") if x < 0 else print(\"zero\") if x == 0 else print(\"more than 0\")\n"
   ]
  },
  {
   "cell_type": "markdown",
   "metadata": {},
   "source": [
    "2)  The range() function can be used to create a sequence of numbers (see \n",
    "the code examples for this). Allow the user to enter a number and then \n",
    "iterate over the range to determine whether the number the user entered \n",
    "is present in the sequence. "
   ]
  },
  {
   "cell_type": "code",
   "execution_count": 9,
   "metadata": {},
   "outputs": [],
   "source": [
    "x= range(0, 10)\n",
    "\n",
    "y=int(input('number'))\n",
    "\n",
    "if y in x:\n",
    "    print('yeah')"
   ]
  },
  {
   "cell_type": "markdown",
   "metadata": {},
   "source": [
    "3)  An arithmetic series of numbers is defined by an initial value and a common difference. For example, if the starting value is 2 and the common difference is 3, the arithmetic sequence would begin 2, 5, 8, 11, 14, ... Allow the user to enter values for the initial value and common difference. Write code to determine the sum of the first 10 elements in the arithmetic sequence. \n"
   ]
  },
  {
   "cell_type": "code",
   "execution_count": 16,
   "metadata": {},
   "outputs": [
    {
     "name": "stdout",
     "output_type": "stream",
     "text": [
      "3\n",
      "8\n",
      "13\n",
      "18\n",
      "23\n",
      "28\n",
      "33\n",
      "38\n",
      "43\n",
      "48\n"
     ]
    }
   ],
   "source": [
    "a = int(input('initial'))\n",
    "b = int(input('common'))\n",
    "\n",
    "for i in range(a, a+ (10*b), b):\n",
    "    print(i)"
   ]
  },
  {
   "cell_type": "code",
   "execution_count": 12,
   "metadata": {},
   "outputs": [
    {
     "name": "stdout",
     "output_type": "stream",
     "text": [
      "i am a lemon\n"
     ]
    }
   ],
   "source": [
    "x = input('yeah')\n",
    "print(x)"
   ]
  },
  {
   "cell_type": "markdown",
   "metadata": {},
   "source": [
    "4)  Write code to simulate the simple children’s game “Fuzz Buzz”. The rules are simple; start counting upwards from 1 in single increments. If the number is divisible by 5, display “Fuzz”. if the number is divisible by 6, display “Buzz”. If the number is divisible by both, display “Fuzz Buzz”. Otherwise just display the number. Play the game from 1 through to 50 inclusive"
   ]
  },
  {
   "cell_type": "code",
   "execution_count": 15,
   "metadata": {},
   "outputs": [
    {
     "name": "stdout",
     "output_type": "stream",
     "text": [
      "5 fuzz\n",
      "6 buzz\n",
      "10 fuzz\n",
      "12 buzz\n",
      "15 fuzz\n",
      "18 buzz\n",
      "20 fuzz\n",
      "24 buzz\n",
      "25 fuzz\n",
      "30 fuzzybuzzy\n",
      "35 fuzz\n",
      "36 buzz\n",
      "40 fuzz\n",
      "42 buzz\n",
      "45 fuzz\n",
      "48 buzz\n",
      "50 fuzz\n"
     ]
    }
   ],
   "source": [
    "for i in range(1, 51):\n",
    "    if i%5==0 and i%6==0:\n",
    "        print(i, \"fuzzybuzzy\")\n",
    "    elif i%5 ==0:\n",
    "        print(i,'fuzz')\n",
    "    elif i%6==0:\n",
    "        print(i, 'buzz')"
   ]
  },
  {
   "cell_type": "markdown",
   "metadata": {},
   "source": [
    "2. bubble sort"
   ]
  },
  {
   "cell_type": "code",
   "execution_count": 23,
   "metadata": {},
   "outputs": [
    {
     "name": "stdout",
     "output_type": "stream",
     "text": [
      "['gnu', 'aardvark', 'horse', 'donkey', 'eagle', 'emu']\n",
      "\n",
      "\n",
      "['aardvark', 'gnu', 'horse', 'donkey', 'eagle', 'emu']\n",
      "['aardvark', 'gnu', 'horse', 'donkey', 'eagle', 'emu']\n",
      "['aardvark', 'gnu', 'donkey', 'horse', 'eagle', 'emu']\n",
      "['aardvark', 'gnu', 'donkey', 'eagle', 'horse', 'emu']\n",
      "['aardvark', 'gnu', 'donkey', 'eagle', 'emu', 'horse']\n",
      "\n",
      " ['aardvark', 'gnu', 'donkey', 'eagle', 'emu', 'horse']\n",
      "['aardvark', 'gnu', 'donkey', 'eagle', 'emu', 'horse']\n",
      "['aardvark', 'donkey', 'gnu', 'eagle', 'emu', 'horse']\n",
      "['aardvark', 'donkey', 'eagle', 'gnu', 'emu', 'horse']\n",
      "['aardvark', 'donkey', 'eagle', 'emu', 'gnu', 'horse']\n",
      "['aardvark', 'donkey', 'eagle', 'emu', 'gnu', 'horse']\n",
      "\n",
      " ['aardvark', 'donkey', 'eagle', 'emu', 'gnu', 'horse']\n",
      "['aardvark', 'donkey', 'eagle', 'emu', 'gnu', 'horse']\n",
      "['aardvark', 'donkey', 'eagle', 'emu', 'gnu', 'horse']\n",
      "['aardvark', 'donkey', 'eagle', 'emu', 'gnu', 'horse']\n",
      "['aardvark', 'donkey', 'eagle', 'emu', 'gnu', 'horse']\n",
      "['aardvark', 'donkey', 'eagle', 'emu', 'gnu', 'horse']\n",
      "\n",
      " ['aardvark', 'donkey', 'eagle', 'emu', 'gnu', 'horse']\n",
      "['aardvark', 'donkey', 'eagle', 'emu', 'gnu', 'horse']\n",
      "['aardvark', 'donkey', 'eagle', 'emu', 'gnu', 'horse']\n",
      "['aardvark', 'donkey', 'eagle', 'emu', 'gnu', 'horse']\n",
      "['aardvark', 'donkey', 'eagle', 'emu', 'gnu', 'horse']\n",
      "['aardvark', 'donkey', 'eagle', 'emu', 'gnu', 'horse']\n",
      "\n",
      " ['aardvark', 'donkey', 'eagle', 'emu', 'gnu', 'horse']\n",
      "['aardvark', 'donkey', 'eagle', 'emu', 'gnu', 'horse']\n",
      "['aardvark', 'donkey', 'eagle', 'emu', 'gnu', 'horse']\n",
      "['aardvark', 'donkey', 'eagle', 'emu', 'gnu', 'horse']\n",
      "['aardvark', 'donkey', 'eagle', 'emu', 'gnu', 'horse']\n",
      "['aardvark', 'donkey', 'eagle', 'emu', 'gnu', 'horse']\n",
      "\n",
      " ['aardvark', 'donkey', 'eagle', 'emu', 'gnu', 'horse']\n",
      "['aardvark', 'donkey', 'eagle', 'emu', 'gnu', 'horse']\n",
      "['aardvark', 'donkey', 'eagle', 'emu', 'gnu', 'horse']\n",
      "['aardvark', 'donkey', 'eagle', 'emu', 'gnu', 'horse']\n",
      "['aardvark', 'donkey', 'eagle', 'emu', 'gnu', 'horse']\n",
      "['aardvark', 'donkey', 'eagle', 'emu', 'gnu', 'horse']\n",
      "\n",
      " ['aardvark', 'donkey', 'eagle', 'emu', 'gnu', 'horse']\n"
     ]
    }
   ],
   "source": [
    "my_list = ['gnu', 'aardvark', 'horse', 'donkey', 'eagle', 'emu']\n",
    "\n",
    "print(my_list)\n",
    "print('\\n')\n",
    "n = 0 \n",
    "while n <= 5:\n",
    "    for i in range(len(my_list)-1):\n",
    "        # print(i)\n",
    "        # print(\"---\")\n",
    "        # print(my_list[i])\n",
    "        # print(my_list[i+1])\n",
    "        if my_list[i] > my_list[i+1]:\n",
    "            temp_var_1 = my_list[i+1]\n",
    "            temp_var_2 = my_list[i]\n",
    "            \n",
    "            my_list[i] = temp_var_1\n",
    "            my_list[i+1] = temp_var_2\n",
    "        \n",
    "        print(my_list)\n",
    "\n",
    "    print(\"\\n\",my_list)\n",
    "        # print(my_list)\n",
    "        # if my_list[i] > my_list[i+1]:\n",
    "            # my_list[i], my_list[i+1] = my_list[i+1], my_list[i]\n",
    "            \n",
    "    n += 1"
   ]
  },
  {
   "cell_type": "code",
   "execution_count": 23,
   "metadata": {},
   "outputs": [
    {
     "name": "stdout",
     "output_type": "stream",
     "text": [
      "\n",
      "\n",
      "['gnu', 'aardvark', 'horse', 'donkey', 'eagle', 'emu']\n",
      "['aardvark', 'gnu', 'horse', 'donkey', 'eagle', 'emu']\n",
      "['aardvark', 'gnu', 'horse', 'donkey', 'eagle', 'emu']\n",
      "['aardvark', 'gnu', 'donkey', 'horse', 'eagle', 'emu']\n",
      "['aardvark', 'gnu', 'donkey', 'eagle', 'horse', 'emu']\n",
      "\n",
      "\n",
      "['aardvark', 'gnu', 'donkey', 'eagle', 'emu', 'horse']\n",
      "['aardvark', 'gnu', 'donkey', 'eagle', 'emu', 'horse']\n",
      "['aardvark', 'donkey', 'gnu', 'eagle', 'emu', 'horse']\n",
      "['aardvark', 'donkey', 'eagle', 'gnu', 'emu', 'horse']\n",
      "['aardvark', 'donkey', 'eagle', 'emu', 'gnu', 'horse']\n"
     ]
    }
   ],
   "source": [
    "my_list = ['gnu', 'aardvark', 'horse', 'donkey', 'eagle', 'emu']\n",
    "for i in range(2):\n",
    "    print(\"\\n\")\n",
    "    for i in range(len(my_list)-1):\n",
    "        print(my_list)\n",
    "        if my_list[i] > my_list[i+1]:\n",
    "            my_list[i], my_list[i+1] = my_list[i+1], my_list[i]\n",
    "        "
   ]
  },
  {
   "cell_type": "code",
   "execution_count": 25,
   "metadata": {},
   "outputs": [
    {
     "name": "stdout",
     "output_type": "stream",
     "text": [
      "\n",
      "\n",
      "['gnu', 'aardvark', 'horse', 'donkey', 'eagle', 'emu']\n",
      "['aardvark', 'gnu', 'horse', 'donkey', 'eagle', 'emu']\n",
      "['aardvark', 'gnu', 'horse', 'donkey', 'eagle', 'emu']\n",
      "['aardvark', 'gnu', 'donkey', 'horse', 'eagle', 'emu']\n",
      "['aardvark', 'gnu', 'donkey', 'eagle', 'horse', 'emu']\n",
      "\n",
      "\n",
      "['aardvark', 'gnu', 'donkey', 'eagle', 'emu', 'horse']\n",
      "['aardvark', 'gnu', 'donkey', 'eagle', 'emu', 'horse']\n",
      "['aardvark', 'donkey', 'gnu', 'eagle', 'emu', 'horse']\n",
      "['aardvark', 'donkey', 'eagle', 'gnu', 'emu', 'horse']\n",
      "['aardvark', 'donkey', 'eagle', 'emu', 'gnu', 'horse']\n",
      "\n",
      "\n",
      "['aardvark', 'donkey', 'eagle', 'emu', 'gnu', 'horse']\n",
      "['aardvark', 'donkey', 'eagle', 'emu', 'gnu', 'horse']\n",
      "['aardvark', 'donkey', 'eagle', 'emu', 'gnu', 'horse']\n",
      "['aardvark', 'donkey', 'eagle', 'emu', 'gnu', 'horse']\n",
      "['aardvark', 'donkey', 'eagle', 'emu', 'gnu', 'horse']\n",
      "\n",
      "\n",
      "['aardvark', 'donkey', 'eagle', 'emu', 'gnu', 'horse']\n",
      "['aardvark', 'donkey', 'eagle', 'emu', 'gnu', 'horse']\n",
      "['aardvark', 'donkey', 'eagle', 'emu', 'gnu', 'horse']\n",
      "['aardvark', 'donkey', 'eagle', 'emu', 'gnu', 'horse']\n",
      "['aardvark', 'donkey', 'eagle', 'emu', 'gnu', 'horse']\n"
     ]
    }
   ],
   "source": [
    "my_list = ['gnu', 'aardvark', 'horse', 'donkey', 'eagle', 'emu']\n",
    "for i in range(4):\n",
    "    print(\"\\n\")\n",
    "    for i in range(len(my_list)-1):\n",
    "        print(my_list)\n",
    "        if my_list[i] > my_list[i+1]:\n",
    "            my_list[i], my_list[i+1] = my_list[i+1], my_list[i]\n",
    "        "
   ]
  },
  {
   "cell_type": "code",
   "execution_count": 17,
   "metadata": {},
   "outputs": [
    {
     "name": "stdout",
     "output_type": "stream",
     "text": [
      "['aardvark', 'donkey', 'eagle', 'emu', 'gnu', 'horse']\n"
     ]
    }
   ],
   "source": [
    "my_list = ['gnu', 'aardvark', 'horse', 'donkey', 'eagle', 'emu']\n",
    "\n",
    "for i1 in range(len(my_list) - 1):\n",
    "    for i2 in range(len(my_list) - 1):\n",
    "        if my_list[i2].lower() > my_list[i2 + 1].lower():\n",
    "            tmp1 = my_list[i2]\n",
    "            tmp2 = my_list[i2 + 1]\n",
    "            my_list[i2] = tmp2\n",
    "            my_list[i2 + 1] = tmp1\n",
    "\n",
    "print(my_list)\n"
   ]
  },
  {
   "cell_type": "markdown",
   "metadata": {},
   "source": [
    "3 \n",
    "1) Create a list comprehension and use it to display only the even numbers in a given list. \n"
   ]
  },
  {
   "cell_type": "code",
   "execution_count": 27,
   "metadata": {},
   "outputs": [
    {
     "name": "stdout",
     "output_type": "stream",
     "text": [
      "[2, 4, 6, 8, 10]\n"
     ]
    }
   ],
   "source": [
    "a_list = [1, 2, 3, 4, 5, 6, 7, 8, 9, 10]\n",
    "\n",
    "print([num for num in a_list if num%2==0])"
   ]
  },
  {
   "cell_type": "markdown",
   "metadata": {},
   "source": [
    "2)  Create a list comprehension that produces a new list b from a given list of strings a consisting of only those elements in a that have 3 or fewer characters. \n"
   ]
  },
  {
   "cell_type": "code",
   "execution_count": 28,
   "metadata": {},
   "outputs": [
    {
     "name": "stdout",
     "output_type": "stream",
     "text": [
      "['gnu', 'emu']\n"
     ]
    }
   ],
   "source": [
    "my_list = ['gnu', 'aardvark', 'horse', 'donkey', 'eagle', 'emu']\n",
    "\n",
    "print([word for word in my_list if len(word) <=3])"
   ]
  },
  {
   "cell_type": "markdown",
   "metadata": {},
   "source": [
    "3)  Create a list comprehension that produces a new list b from a given list of strings a consisting of only those elements in a that begin with a specific letter. \n"
   ]
  },
  {
   "cell_type": "code",
   "execution_count": 29,
   "metadata": {},
   "outputs": [
    {
     "name": "stdout",
     "output_type": "stream",
     "text": [
      "['aardvark']\n"
     ]
    }
   ],
   "source": [
    "my_list = ['gnu', 'aardvark', 'horse', 'donkey', 'eagle', 'emu']\n",
    "print([word for word in my_list if word[0] ==\"a\"])"
   ]
  },
  {
   "cell_type": "markdown",
   "metadata": {},
   "source": [
    "4)  Create a list comprehension that produces a new list b from a given list of strings a consisting of only those elements in a that begin with a specific letter and have 3 of fewer characters"
   ]
  },
  {
   "cell_type": "code",
   "execution_count": 30,
   "metadata": {},
   "outputs": [
    {
     "name": "stdout",
     "output_type": "stream",
     "text": [
      "['ant']\n"
     ]
    }
   ],
   "source": [
    "my_list = ['gnu', 'aardvark', 'horse', 'donkey', 'eagle', 'emu', 'ant']\n",
    "print([word for word in my_list if word[0] ==\"a\" and len(word)<=3])"
   ]
  },
  {
   "cell_type": "code",
   "execution_count": null,
   "metadata": {},
   "outputs": [],
   "source": []
  }
 ],
 "metadata": {
  "kernelspec": {
   "display_name": "Python 3",
   "language": "python",
   "name": "python3"
  },
  "language_info": {
   "codemirror_mode": {
    "name": "ipython",
    "version": 3
   },
   "file_extension": ".py",
   "mimetype": "text/x-python",
   "name": "python",
   "nbconvert_exporter": "python",
   "pygments_lexer": "ipython3",
   "version": "3.12.6"
  }
 },
 "nbformat": 4,
 "nbformat_minor": 2
}
