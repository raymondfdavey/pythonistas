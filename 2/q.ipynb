{
 "cells": [
  {
   "cell_type": "markdown",
   "metadata": {},
   "source": [
    "Coding challenges 1 \n",
    " \n",
    "1)  Allow the user to enter a number. Use an if statement to display whether \n",
    "the number is negative, equal to zero or positive. \n"
   ]
  },
  {
   "cell_type": "code",
   "execution_count": null,
   "metadata": {},
   "outputs": [],
   "source": []
  },
  {
   "cell_type": "markdown",
   "metadata": {},
   "source": [
    "2)  The range() function can be used to create a sequence of numbers (see \n",
    "the code examples for this). Allow the user to enter a number and then \n",
    "iterate over the range to determine whether the number the user entered \n",
    "is present in the sequence. "
   ]
  },
  {
   "cell_type": "code",
   "execution_count": null,
   "metadata": {},
   "outputs": [],
   "source": []
  },
  {
   "cell_type": "markdown",
   "metadata": {},
   "source": [
    "3)  An arithmetic series of numbers is defined by an initial value and a common difference. For example, if the starting value is 2 and the common difference is 3, the arithmetic sequence would begin 2, 5, 8, 11, 14, ... Allow the user to enter values for the initial value and common difference. Write code to determine the sum of the first 10 elements in the arithmetic sequence. \n"
   ]
  },
  {
   "cell_type": "code",
   "execution_count": null,
   "metadata": {},
   "outputs": [],
   "source": []
  },
  {
   "cell_type": "markdown",
   "metadata": {},
   "source": [
    "4)  Write code to simulate the simple children’s game “Fuzz Buzz”. The rules are simple; start counting upwards from 1 in single increments. If the number is divisible by 5, display “Fuzz”. if the number is divisible by 6, display “Buzz”. If the number is divisible by both, display “Fuzz Buzz”. Otherwise just display the number. Play the game from 1 through to 50 inclusive"
   ]
  },
  {
   "cell_type": "code",
   "execution_count": null,
   "metadata": {},
   "outputs": [],
   "source": []
  },
  {
   "cell_type": "markdown",
   "metadata": {},
   "source": [
    "Coding challenges 2\n",
    "Bubble sort\n"
   ]
  },
  {
   "cell_type": "code",
   "execution_count": 1,
   "metadata": {},
   "outputs": [],
   "source": [
    "# aim = ['aardvark', 'donkey', 'eagle', 'emu', 'gnu', 'horse']\n",
    "\n",
    "my_list = ['gnu', 'aardvark', 'horse', 'donkey', 'eagle', 'emu']"
   ]
  },
  {
   "cell_type": "markdown",
   "metadata": {},
   "source": [
    "Coding challenges  3 \n",
    "1) Create a list comprehension and use it to display only the even numbers in a given list. \n"
   ]
  },
  {
   "cell_type": "code",
   "execution_count": null,
   "metadata": {},
   "outputs": [],
   "source": []
  },
  {
   "cell_type": "markdown",
   "metadata": {},
   "source": [
    "2)  Create a list comprehension that produces a new list b from a given list of strings a consisting of only those elements in a that have 3 or fewer characters. \n"
   ]
  },
  {
   "cell_type": "code",
   "execution_count": null,
   "metadata": {},
   "outputs": [],
   "source": []
  },
  {
   "cell_type": "markdown",
   "metadata": {},
   "source": [
    "3)  Create a list comprehension that produces a new list b from a given list of strings a consisting of only those elements in a that begin with a specific letter. \n"
   ]
  },
  {
   "cell_type": "code",
   "execution_count": null,
   "metadata": {},
   "outputs": [],
   "source": []
  },
  {
   "cell_type": "markdown",
   "metadata": {},
   "source": [
    "4)  Create a list comprehension that produces a new list b from a given list of strings a consisting of only those elements in a that begin with a specific letter and have 3 of fewer characters"
   ]
  },
  {
   "cell_type": "code",
   "execution_count": null,
   "metadata": {},
   "outputs": [],
   "source": []
  },
  {
   "cell_type": "code",
   "execution_count": null,
   "metadata": {},
   "outputs": [],
   "source": []
  }
 ],
 "metadata": {
  "kernelspec": {
   "display_name": "Python 3",
   "language": "python",
   "name": "python3"
  },
  "language_info": {
   "codemirror_mode": {
    "name": "ipython",
    "version": 3
   },
   "file_extension": ".py",
   "mimetype": "text/x-python",
   "name": "python",
   "nbconvert_exporter": "python",
   "pygments_lexer": "ipython3",
   "version": "3.12.6"
  }
 },
 "nbformat": 4,
 "nbformat_minor": 2
}
