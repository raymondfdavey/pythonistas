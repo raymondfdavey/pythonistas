{
 "cells": [
  {
   "cell_type": "markdown",
   "metadata": {},
   "source": [
    "•  Create a random number generator function that takes two parameters \n",
    "e.g. gen_random(min_val, max_val), and then returns an output \n",
    "value between those two values inclusive. "
   ]
  },
  {
   "cell_type": "code",
   "execution_count": 2,
   "metadata": {},
   "outputs": [
    {
     "name": "stdout",
     "output_type": "stream",
     "text": [
      "7\n",
      "7\n"
     ]
    }
   ],
   "source": [
    "import random \n",
    "# print(random.randrange(3, 9))\n",
    "\n",
    "def gen_random(min_val, max_val):\n",
    "    return random.randrange(min_val, max_val)\n",
    "\n",
    "print(gen_random(4, 8))\n",
    "\n",
    "def gen_random2(min_val, max_val):\n",
    "    ran = random.randrange(max_val-min_val)\n",
    "    return ran+min_val\n",
    "\n",
    "print(gen_random(4, 8))\n"
   ]
  },
  {
   "cell_type": "markdown",
   "metadata": {},
   "source": [
    "•  Create a function to generate a lottery ticket. A lottery ticket can be \n",
    "conveniently represented using a list of 6 integer numbers with values \n",
    "between 1 and 50 inclusive. The function should return the list. Numeric \n",
    "values in a list can be sorted into ascending order using \n",
    "list.sort(reverse=???) where list is the list you want sorted a \n",
    "keyword argument reverse is used (value True or False) to specify \n",
    "whether you want ascending or descending order. There should be no \n",
    "duplicate values in your list. \n"
   ]
  },
  {
   "cell_type": "code",
   "execution_count": 4,
   "metadata": {},
   "outputs": [
    {
     "name": "stdout",
     "output_type": "stream",
     "text": [
      "[37, 19, 17, 18, 25, 22]\n"
     ]
    }
   ],
   "source": [
    "def make_ticket(length):\n",
    "    ticket = []\n",
    "    while len(ticket) < length:\n",
    "        new_number = random.randrange(1, 50)\n",
    "        if new_number not in ticket:\n",
    "            ticket.append(new_number)\n",
    "    return ticket\n",
    "\n",
    "print(make_ticket(6))"
   ]
  },
  {
   "cell_type": "markdown",
   "metadata": {},
   "source": [
    "•  Create a function to check whether we have won the lottery. This function \n",
    "should take the lottery ticket list previously created as one parameter, and \n",
    "a list of the 6 winning numbers as the other argument. If 2 numbers match \n",
    "return a win of £1. If 3 numbers match, the function should return a win of \n",
    "£10, if 4 numbers match, return a win of £50, 5 numbers a win of £500 \n",
    "and 6 numbers £1,000,000. "
   ]
  },
  {
   "cell_type": "code",
   "execution_count": 56,
   "metadata": {},
   "outputs": [
    {
     "name": "stdout",
     "output_type": "stream",
     "text": [
      "4\n"
     ]
    }
   ],
   "source": [
    "ticket = [ 2, 3, 4, 5, 6, 7]\n",
    "winning_ticket = [4, 5, 6, 7, 8, 9] \n",
    "\n",
    "def check_ticket(ticket, winning_nums):\n",
    "    matches = 0\n",
    "    for x in ticket:\n",
    "        if x in winning_nums:\n",
    "            matches += 1\n",
    "    return matches\n",
    "\n",
    "print(check_ticket(ticket, winning_ticket))"
   ]
  },
  {
   "cell_type": "markdown",
   "metadata": {},
   "source": [
    "In this challenge, we recreate a simple number guessing game. The rules are \n",
    "simple: \n",
    " \n",
    "•  Python will generate a random answer between 1 and 99 inclusive. \n",
    "\n",
    "•  The user then has a maximum of 10 attempts to guess the number. \n",
    "\n",
    "•  If the user guesses correctly, the game is won. \n",
    "\n",
    "•  If the user guesses too low, a “too low” message is generated. \n",
    "\n",
    " 3 \n",
    "•  If the user guesses too high, a “too high” message is generated. \n",
    "\n",
    "•  If the user enters a number that was previously input, a message “you \n",
    "tried that already” is generated and the turn count is not increased. \n",
    "\n",
    "•  The user can quit the game by entering a guess of -1. \n",
    "\n",
    " \n",
    "All user guesses should be stored in a list for convenience. \n",
    " \n",
    "To build this game, divide the functionality up into some appropriate functions: \n",
    " \n",
    "•  generate_answer() \n",
    "\n",
    "•  analyse_guess(): should take the user guess as a parameter and return -1 if it is too low, -2 is if it is too high and 0 if it is correct. \n",
    "\n",
    "•  check_previous(): should take a list of user guesses and the current  user guess and return True is the user guess is already in that list, False  otherwise. \n",
    "\n",
    "•  main(): to get the game working. \n",
    "\n",
    "•  See earlier in this document for how to generate random numbers\n"
   ]
  },
  {
   "cell_type": "code",
   "execution_count": 66,
   "metadata": {},
   "outputs": [
    {
     "name": "stdout",
     "output_type": "stream",
     "text": [
      "37\n",
      "go higher!\n",
      "go higher!\n",
      "go higher!\n",
      "go higher!\n",
      "go higher!\n",
      "go higher!\n",
      "go higher!\n",
      "go higher!\n",
      "go higher!\n",
      "go lower\n",
      "out of guesses, sorry!\n",
      "correct answer was 37\n"
     ]
    }
   ],
   "source": [
    "def generate_answer():\n",
    "    return random.randint(1, 99)\n",
    "\n",
    "def analyse_guess(current_guess, answer):\n",
    "    if current_guess == answer:\n",
    "        return 0\n",
    "    elif current_guess < answer:\n",
    "        return -1\n",
    "    elif current_guess > answer:\n",
    "        return -2\n",
    "    else:\n",
    "        return \"error\"\n",
    "\n",
    "def check_previous(previous_guesses, current_guess):\n",
    "    if current_guess in previous_guesses:\n",
    "        return True\n",
    "    else:\n",
    "        return False\n",
    "    pass\n",
    "def main():\n",
    "    answer = generate_answer()\n",
    "    print(answer)\n",
    "    won_game = False\n",
    "    \n",
    "    guesses = []\n",
    "    while not won_game:\n",
    "        \n",
    "        user_guess = int(input('Enter your guess: '))\n",
    "        \n",
    "        if check_previous(guesses, user_guess):\n",
    "            print(\"You have guessed this already - try another number\")\n",
    "            continue\n",
    "        else:\n",
    "            outcome = analyse_guess(user_guess, answer)\n",
    "            if outcome == 0:\n",
    "                print(\"WELL DONEEEEEEE\")\n",
    "                won_game = True\n",
    "                continue\n",
    "            elif outcome == -1:\n",
    "                print('go higher!')\n",
    "                guesses.append(user_guess)    \n",
    "            elif outcome == -2:\n",
    "                print('go lower')\n",
    "                guesses.append(user_guess)    \n",
    "            else:\n",
    "                print(outcome)\n",
    "        if len(guesses) >= 10:\n",
    "            print(\"out of guesses, sorry!\")\n",
    "            print(f'correct answer was {answer}')\n",
    "            break\n",
    "            \n",
    "            \n",
    "main()"
   ]
  },
  {
   "cell_type": "code",
   "execution_count": null,
   "metadata": {},
   "outputs": [],
   "source": []
  }
 ],
 "metadata": {
  "kernelspec": {
   "display_name": "Python 3",
   "language": "python",
   "name": "python3"
  },
  "language_info": {
   "codemirror_mode": {
    "name": "ipython",
    "version": 3
   },
   "file_extension": ".py",
   "mimetype": "text/x-python",
   "name": "python",
   "nbconvert_exporter": "python",
   "pygments_lexer": "ipython3",
   "version": "3.12.6"
  }
 },
 "nbformat": 4,
 "nbformat_minor": 2
}
